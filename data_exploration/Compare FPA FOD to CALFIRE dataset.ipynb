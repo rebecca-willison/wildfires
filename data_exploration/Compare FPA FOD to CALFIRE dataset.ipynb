{
 "cells": [
  {
   "cell_type": "markdown",
   "metadata": {},
   "source": [
    "# Comparison of CALFIRE to FPA FOD \n",
    "CALFIRE is more current\n",
    "### Attach packages, source code, etc."
   ]
  },
  {
   "cell_type": "code",
   "execution_count": 2,
   "metadata": {},
   "outputs": [],
   "source": [
    "library(dplyr)\n",
    "library(readr)\n",
    "library(ggplot2)\n",
    "library(leaflet)\n",
    "library(usmap)\n",
    "library(ggmap)\n",
    "library(sp)\n",
    "library(sf)\n",
    "library(viridis)\n",
    "library(ggpubr)\n",
    "library(maps)\n",
    "fig <- function(width, heigth){\n",
    " options(repr.plot.width = width, repr.plot.height = heigth)\n",
    " }"
   ]
  },
  {
   "cell_type": "code",
   "execution_count": 11,
   "metadata": {},
   "outputs": [],
   "source": [
    "fpa_fod <- suppressMessages(read_csv('/Users/rebeccawillison/Documents/research/wildfire/wildfires/data/ca_fires.csv', \n",
    "                    guess_max = 100000)) %>% dplyr::filter(!(FIRE_SIZE_CLASS %in% c('A','B')))\n",
    "calfire <- suppressMessages(read_csv('/Users/rebeccawillison/Documents/research/wildfire/wildfires/data/mapdataall.csv')) %>%\n",
    "                    dplyr::mutate(FIRE_YEAR = format(incident_date_created, '%Y'))\n",
    "                                                                            "
   ]
  },
  {
   "cell_type": "code",
   "execution_count": 12,
   "metadata": {},
   "outputs": [
    {
     "data": {
      "text/plain": [
       "\n",
       "1992 1993 1994 1995 1996 1997 1998 1999 2000 2001 2002 2003 2004 2005 2006 2007 \n",
       " 854  756  771  666  979  591  526  701  420  568  605  659  592  627  719  632 \n",
       "2008 2009 2010 2011 2012 2013 2014 2015 \n",
       " 707  406  364  520  443  503  294  396 "
      ]
     },
     "metadata": {},
     "output_type": "display_data"
    },
    {
     "data": {
      "text/plain": [
       "\n",
       "1969 2009 2013 2014 2015 2016 2017 2018 2019 2020 \n",
       "   2    1  141   76   99  155  429  303  263  261 "
      ]
     },
     "metadata": {},
     "output_type": "display_data"
    }
   ],
   "source": [
    "table(fpa_fod$FIRE_YEAR)\n",
    "table(calfire$FIRE_YEAR)"
   ]
  },
  {
   "cell_type": "code",
   "execution_count": 8,
   "metadata": {},
   "outputs": [
    {
     "data": {
      "text/html": [
       "<table>\n",
       "<caption>A tibble: 6 × 23</caption>\n",
       "<thead>\n",
       "\t<tr><th scope=col>incident_name</th><th scope=col>incident_is_final</th><th scope=col>incident_date_last_update</th><th scope=col>incident_date_created</th><th scope=col>incident_administrative_unit</th><th scope=col>incident_administrative_unit_url</th><th scope=col>incident_county</th><th scope=col>incident_location</th><th scope=col>incident_acres_burned</th><th scope=col>incident_containment</th><th scope=col>⋯</th><th scope=col>incident_latitude</th><th scope=col>incident_type</th><th scope=col>incident_id</th><th scope=col>incident_url</th><th scope=col>incident_date_extinguished</th><th scope=col>incident_dateonly_extinguished</th><th scope=col>incident_dateonly_created</th><th scope=col>is_active</th><th scope=col>calfire_incident</th><th scope=col>notification_desired</th></tr>\n",
       "\t<tr><th scope=col>&lt;chr&gt;</th><th scope=col>&lt;lgl&gt;</th><th scope=col>&lt;dttm&gt;</th><th scope=col>&lt;dttm&gt;</th><th scope=col>&lt;chr&gt;</th><th scope=col>&lt;lgl&gt;</th><th scope=col>&lt;chr&gt;</th><th scope=col>&lt;chr&gt;</th><th scope=col>&lt;dbl&gt;</th><th scope=col>&lt;dbl&gt;</th><th scope=col>⋯</th><th scope=col>&lt;dbl&gt;</th><th scope=col>&lt;chr&gt;</th><th scope=col>&lt;chr&gt;</th><th scope=col>&lt;chr&gt;</th><th scope=col>&lt;dttm&gt;</th><th scope=col>&lt;date&gt;</th><th scope=col>&lt;date&gt;</th><th scope=col>&lt;chr&gt;</th><th scope=col>&lt;lgl&gt;</th><th scope=col>&lt;lgl&gt;</th></tr>\n",
       "</thead>\n",
       "<tbody>\n",
       "\t<tr><td>Bridge Fire  </td><td>TRUE</td><td>2018-01-09 13:46:00</td><td>2017-10-31 11:22:00</td><td>Shasta-Trinity National Forest      </td><td>NA</td><td>Shasta        </td><td>I-5 and Turntable Bay, 7 miles NE of Shasta Lake                                        </td><td>  37</td><td>100</td><td>⋯</td><td>40.77400</td><td>NA      </td><td>2ca11d45-8139-4c16-8af0-880d99b21e82</td><td>https://www.fire.ca.gov/incidents/2017/10/31/bridge-fire/ </td><td>2018-01-09 13:46:00</td><td>2018-01-09</td><td>2017-10-31</td><td>N</td><td>FALSE</td><td>FALSE</td></tr>\n",
       "\t<tr><td>Pala Fire    </td><td>TRUE</td><td>2020-09-16 14:07:35</td><td>2009-05-24 14:56:00</td><td>CAL FIRE San Diego Unit             </td><td>NA</td><td>San Diego     </td><td>Hwy 76 and Pala Temecula, northwest of Pala                                             </td><td> 122</td><td>100</td><td>⋯</td><td> 1.00000</td><td>Wildfire</td><td>8f61f461-552d-4538-b186-35ab030da416</td><td>https://www.fire.ca.gov/incidents/2009/5/24/pala-fire/    </td><td>2009-05-25 00:00:00</td><td>2009-05-25</td><td>2009-05-24</td><td>N</td><td> TRUE</td><td>FALSE</td></tr>\n",
       "\t<tr><td><span style=white-space:pre-wrap>River Fire   </span></td><td>TRUE</td><td>2013-02-28 20:00:00</td><td>2013-02-24 08:16:00</td><td><span style=white-space:pre-wrap>CAL FIRE San Bernardino Unit        </span></td><td>NA</td><td><span style=white-space:pre-wrap>Inyo          </span></td><td><span style=white-space:pre-wrap>south of Narrow Gauge Rd &amp; north of Hwy 136, east of Lone Pine                          </span></td><td> 406</td><td>100</td><td>⋯</td><td>36.60258</td><td><span style=white-space:pre-wrap>NA      </span></td><td>094719ba-a47b-4abb-9ec5-a506b2b9fd23</td><td><span style=white-space:pre-wrap>https://www.fire.ca.gov/incidents/2013/2/24/river-fire/   </span></td><td>2013-02-28 20:00:00</td><td>2013-02-28</td><td>2013-02-24</td><td>N</td><td> TRUE</td><td>FALSE</td></tr>\n",
       "\t<tr><td>Fawnskin Fire</td><td>TRUE</td><td>2013-04-22 09:00:00</td><td>2013-04-20 17:30:00</td><td>San Bernardino National Forest      </td><td>NA</td><td>San Bernardino</td><td>west of Delamar Mountain, north of the community of Fawnskin, northside of Big Bear Lake</td><td>  30</td><td>100</td><td>⋯</td><td>34.28888</td><td>NA      </td><td>58f89ff8-bd3e-4355-b1c0-8fa05c747d3f</td><td>https://www.fire.ca.gov/incidents/2013/4/20/fawnskin-fire/</td><td>2013-04-22 09:00:00</td><td>2013-04-22</td><td>2013-04-20</td><td>N</td><td>FALSE</td><td>FALSE</td></tr>\n",
       "\t<tr><td>Gold Fire    </td><td>TRUE</td><td>2013-05-01 07:00:00</td><td>2013-04-30 12:59:00</td><td>CAL FIRE Madera-Mariposa-Merced Unit</td><td>NA</td><td>Madera        </td><td>Between Road 210 and Road 200 near Fine Gold Creek in the community of O                </td><td> 274</td><td>100</td><td>⋯</td><td>37.11630</td><td>NA      </td><td>357ffc13-bef9-48eb-810f-c5de851972eb</td><td>https://www.fire.ca.gov/incidents/2013/4/30/gold-fire/    </td><td>2013-05-01 07:00:00</td><td>2013-05-01</td><td>2013-04-30</td><td>N</td><td> TRUE</td><td>FALSE</td></tr>\n",
       "\t<tr><td>Panther Fire </td><td>TRUE</td><td>2013-05-09 09:00:00</td><td>2013-05-01 09:12:00</td><td>CAL FIRE Butte Unit                 </td><td>NA</td><td>Tehama        </td><td>140K3 Line, 8 miles northwest of Butte Meadows                                          </td><td>6965</td><td>100</td><td>⋯</td><td>40.19006</td><td>NA      </td><td>53122f0f-fefc-4dbf-b2d8-566b42ced66d</td><td>https://www.fire.ca.gov/incidents/2013/5/1/panther-fire/  </td><td>2013-05-09 09:00:00</td><td>2013-05-09</td><td>2013-05-01</td><td>N</td><td> TRUE</td><td>FALSE</td></tr>\n",
       "</tbody>\n",
       "</table>\n"
      ],
      "text/latex": [
       "A tibble: 6 × 23\n",
       "\\begin{tabular}{lllllllllllllllllllll}\n",
       " incident\\_name & incident\\_is\\_final & incident\\_date\\_last\\_update & incident\\_date\\_created & incident\\_administrative\\_unit & incident\\_administrative\\_unit\\_url & incident\\_county & incident\\_location & incident\\_acres\\_burned & incident\\_containment & ⋯ & incident\\_latitude & incident\\_type & incident\\_id & incident\\_url & incident\\_date\\_extinguished & incident\\_dateonly\\_extinguished & incident\\_dateonly\\_created & is\\_active & calfire\\_incident & notification\\_desired\\\\\n",
       " <chr> & <lgl> & <dttm> & <dttm> & <chr> & <lgl> & <chr> & <chr> & <dbl> & <dbl> & ⋯ & <dbl> & <chr> & <chr> & <chr> & <dttm> & <date> & <date> & <chr> & <lgl> & <lgl>\\\\\n",
       "\\hline\n",
       "\t Bridge Fire   & TRUE & 2018-01-09 13:46:00 & 2017-10-31 11:22:00 & Shasta-Trinity National Forest       & NA & Shasta         & I-5 and Turntable Bay, 7 miles NE of Shasta Lake                                         &   37 & 100 & ⋯ & 40.77400 & NA       & 2ca11d45-8139-4c16-8af0-880d99b21e82 & https://www.fire.ca.gov/incidents/2017/10/31/bridge-fire/  & 2018-01-09 13:46:00 & 2018-01-09 & 2017-10-31 & N & FALSE & FALSE\\\\\n",
       "\t Pala Fire     & TRUE & 2020-09-16 14:07:35 & 2009-05-24 14:56:00 & CAL FIRE San Diego Unit              & NA & San Diego      & Hwy 76 and Pala Temecula, northwest of Pala                                              &  122 & 100 & ⋯ &  1.00000 & Wildfire & 8f61f461-552d-4538-b186-35ab030da416 & https://www.fire.ca.gov/incidents/2009/5/24/pala-fire/     & 2009-05-25 00:00:00 & 2009-05-25 & 2009-05-24 & N &  TRUE & FALSE\\\\\n",
       "\t River Fire    & TRUE & 2013-02-28 20:00:00 & 2013-02-24 08:16:00 & CAL FIRE San Bernardino Unit         & NA & Inyo           & south of Narrow Gauge Rd \\& north of Hwy 136, east of Lone Pine                           &  406 & 100 & ⋯ & 36.60258 & NA       & 094719ba-a47b-4abb-9ec5-a506b2b9fd23 & https://www.fire.ca.gov/incidents/2013/2/24/river-fire/    & 2013-02-28 20:00:00 & 2013-02-28 & 2013-02-24 & N &  TRUE & FALSE\\\\\n",
       "\t Fawnskin Fire & TRUE & 2013-04-22 09:00:00 & 2013-04-20 17:30:00 & San Bernardino National Forest       & NA & San Bernardino & west of Delamar Mountain, north of the community of Fawnskin, northside of Big Bear Lake &   30 & 100 & ⋯ & 34.28888 & NA       & 58f89ff8-bd3e-4355-b1c0-8fa05c747d3f & https://www.fire.ca.gov/incidents/2013/4/20/fawnskin-fire/ & 2013-04-22 09:00:00 & 2013-04-22 & 2013-04-20 & N & FALSE & FALSE\\\\\n",
       "\t Gold Fire     & TRUE & 2013-05-01 07:00:00 & 2013-04-30 12:59:00 & CAL FIRE Madera-Mariposa-Merced Unit & NA & Madera         & Between Road 210 and Road 200 near Fine Gold Creek in the community of O                 &  274 & 100 & ⋯ & 37.11630 & NA       & 357ffc13-bef9-48eb-810f-c5de851972eb & https://www.fire.ca.gov/incidents/2013/4/30/gold-fire/     & 2013-05-01 07:00:00 & 2013-05-01 & 2013-04-30 & N &  TRUE & FALSE\\\\\n",
       "\t Panther Fire  & TRUE & 2013-05-09 09:00:00 & 2013-05-01 09:12:00 & CAL FIRE Butte Unit                  & NA & Tehama         & 140K3 Line, 8 miles northwest of Butte Meadows                                           & 6965 & 100 & ⋯ & 40.19006 & NA       & 53122f0f-fefc-4dbf-b2d8-566b42ced66d & https://www.fire.ca.gov/incidents/2013/5/1/panther-fire/   & 2013-05-09 09:00:00 & 2013-05-09 & 2013-05-01 & N &  TRUE & FALSE\\\\\n",
       "\\end{tabular}\n"
      ],
      "text/markdown": [
       "\n",
       "A tibble: 6 × 23\n",
       "\n",
       "| incident_name &lt;chr&gt; | incident_is_final &lt;lgl&gt; | incident_date_last_update &lt;dttm&gt; | incident_date_created &lt;dttm&gt; | incident_administrative_unit &lt;chr&gt; | incident_administrative_unit_url &lt;lgl&gt; | incident_county &lt;chr&gt; | incident_location &lt;chr&gt; | incident_acres_burned &lt;dbl&gt; | incident_containment &lt;dbl&gt; | ⋯ ⋯ | incident_latitude &lt;dbl&gt; | incident_type &lt;chr&gt; | incident_id &lt;chr&gt; | incident_url &lt;chr&gt; | incident_date_extinguished &lt;dttm&gt; | incident_dateonly_extinguished &lt;date&gt; | incident_dateonly_created &lt;date&gt; | is_active &lt;chr&gt; | calfire_incident &lt;lgl&gt; | notification_desired &lt;lgl&gt; |\n",
       "|---|---|---|---|---|---|---|---|---|---|---|---|---|---|---|---|---|---|---|---|---|\n",
       "| Bridge Fire   | TRUE | 2018-01-09 13:46:00 | 2017-10-31 11:22:00 | Shasta-Trinity National Forest       | NA | Shasta         | I-5 and Turntable Bay, 7 miles NE of Shasta Lake                                         |   37 | 100 | ⋯ | 40.77400 | NA       | 2ca11d45-8139-4c16-8af0-880d99b21e82 | https://www.fire.ca.gov/incidents/2017/10/31/bridge-fire/  | 2018-01-09 13:46:00 | 2018-01-09 | 2017-10-31 | N | FALSE | FALSE |\n",
       "| Pala Fire     | TRUE | 2020-09-16 14:07:35 | 2009-05-24 14:56:00 | CAL FIRE San Diego Unit              | NA | San Diego      | Hwy 76 and Pala Temecula, northwest of Pala                                              |  122 | 100 | ⋯ |  1.00000 | Wildfire | 8f61f461-552d-4538-b186-35ab030da416 | https://www.fire.ca.gov/incidents/2009/5/24/pala-fire/     | 2009-05-25 00:00:00 | 2009-05-25 | 2009-05-24 | N |  TRUE | FALSE |\n",
       "| River Fire    | TRUE | 2013-02-28 20:00:00 | 2013-02-24 08:16:00 | CAL FIRE San Bernardino Unit         | NA | Inyo           | south of Narrow Gauge Rd &amp; north of Hwy 136, east of Lone Pine                           |  406 | 100 | ⋯ | 36.60258 | NA       | 094719ba-a47b-4abb-9ec5-a506b2b9fd23 | https://www.fire.ca.gov/incidents/2013/2/24/river-fire/    | 2013-02-28 20:00:00 | 2013-02-28 | 2013-02-24 | N |  TRUE | FALSE |\n",
       "| Fawnskin Fire | TRUE | 2013-04-22 09:00:00 | 2013-04-20 17:30:00 | San Bernardino National Forest       | NA | San Bernardino | west of Delamar Mountain, north of the community of Fawnskin, northside of Big Bear Lake |   30 | 100 | ⋯ | 34.28888 | NA       | 58f89ff8-bd3e-4355-b1c0-8fa05c747d3f | https://www.fire.ca.gov/incidents/2013/4/20/fawnskin-fire/ | 2013-04-22 09:00:00 | 2013-04-22 | 2013-04-20 | N | FALSE | FALSE |\n",
       "| Gold Fire     | TRUE | 2013-05-01 07:00:00 | 2013-04-30 12:59:00 | CAL FIRE Madera-Mariposa-Merced Unit | NA | Madera         | Between Road 210 and Road 200 near Fine Gold Creek in the community of O                 |  274 | 100 | ⋯ | 37.11630 | NA       | 357ffc13-bef9-48eb-810f-c5de851972eb | https://www.fire.ca.gov/incidents/2013/4/30/gold-fire/     | 2013-05-01 07:00:00 | 2013-05-01 | 2013-04-30 | N |  TRUE | FALSE |\n",
       "| Panther Fire  | TRUE | 2013-05-09 09:00:00 | 2013-05-01 09:12:00 | CAL FIRE Butte Unit                  | NA | Tehama         | 140K3 Line, 8 miles northwest of Butte Meadows                                           | 6965 | 100 | ⋯ | 40.19006 | NA       | 53122f0f-fefc-4dbf-b2d8-566b42ced66d | https://www.fire.ca.gov/incidents/2013/5/1/panther-fire/   | 2013-05-09 09:00:00 | 2013-05-09 | 2013-05-01 | N |  TRUE | FALSE |\n",
       "\n"
      ],
      "text/plain": [
       "  incident_name incident_is_final incident_date_last_update\n",
       "1 Bridge Fire   TRUE              2018-01-09 13:46:00      \n",
       "2 Pala Fire     TRUE              2020-09-16 14:07:35      \n",
       "3 River Fire    TRUE              2013-02-28 20:00:00      \n",
       "4 Fawnskin Fire TRUE              2013-04-22 09:00:00      \n",
       "5 Gold Fire     TRUE              2013-05-01 07:00:00      \n",
       "6 Panther Fire  TRUE              2013-05-09 09:00:00      \n",
       "  incident_date_created incident_administrative_unit        \n",
       "1 2017-10-31 11:22:00   Shasta-Trinity National Forest      \n",
       "2 2009-05-24 14:56:00   CAL FIRE San Diego Unit             \n",
       "3 2013-02-24 08:16:00   CAL FIRE San Bernardino Unit        \n",
       "4 2013-04-20 17:30:00   San Bernardino National Forest      \n",
       "5 2013-04-30 12:59:00   CAL FIRE Madera-Mariposa-Merced Unit\n",
       "6 2013-05-01 09:12:00   CAL FIRE Butte Unit                 \n",
       "  incident_administrative_unit_url incident_county\n",
       "1 NA                               Shasta         \n",
       "2 NA                               San Diego      \n",
       "3 NA                               Inyo           \n",
       "4 NA                               San Bernardino \n",
       "5 NA                               Madera         \n",
       "6 NA                               Tehama         \n",
       "  incident_location                                                                       \n",
       "1 I-5 and Turntable Bay, 7 miles NE of Shasta Lake                                        \n",
       "2 Hwy 76 and Pala Temecula, northwest of Pala                                             \n",
       "3 south of Narrow Gauge Rd & north of Hwy 136, east of Lone Pine                          \n",
       "4 west of Delamar Mountain, north of the community of Fawnskin, northside of Big Bear Lake\n",
       "5 Between Road 210 and Road 200 near Fine Gold Creek in the community of O                \n",
       "6 140K3 Line, 8 miles northwest of Butte Meadows                                          \n",
       "  incident_acres_burned incident_containment ⋯ incident_latitude incident_type\n",
       "1   37                  100                  ⋯ 40.77400          NA           \n",
       "2  122                  100                  ⋯  1.00000          Wildfire     \n",
       "3  406                  100                  ⋯ 36.60258          NA           \n",
       "4   30                  100                  ⋯ 34.28888          NA           \n",
       "5  274                  100                  ⋯ 37.11630          NA           \n",
       "6 6965                  100                  ⋯ 40.19006          NA           \n",
       "  incident_id                         \n",
       "1 2ca11d45-8139-4c16-8af0-880d99b21e82\n",
       "2 8f61f461-552d-4538-b186-35ab030da416\n",
       "3 094719ba-a47b-4abb-9ec5-a506b2b9fd23\n",
       "4 58f89ff8-bd3e-4355-b1c0-8fa05c747d3f\n",
       "5 357ffc13-bef9-48eb-810f-c5de851972eb\n",
       "6 53122f0f-fefc-4dbf-b2d8-566b42ced66d\n",
       "  incident_url                                              \n",
       "1 https://www.fire.ca.gov/incidents/2017/10/31/bridge-fire/ \n",
       "2 https://www.fire.ca.gov/incidents/2009/5/24/pala-fire/    \n",
       "3 https://www.fire.ca.gov/incidents/2013/2/24/river-fire/   \n",
       "4 https://www.fire.ca.gov/incidents/2013/4/20/fawnskin-fire/\n",
       "5 https://www.fire.ca.gov/incidents/2013/4/30/gold-fire/    \n",
       "6 https://www.fire.ca.gov/incidents/2013/5/1/panther-fire/  \n",
       "  incident_date_extinguished incident_dateonly_extinguished\n",
       "1 2018-01-09 13:46:00        2018-01-09                    \n",
       "2 2009-05-25 00:00:00        2009-05-25                    \n",
       "3 2013-02-28 20:00:00        2013-02-28                    \n",
       "4 2013-04-22 09:00:00        2013-04-22                    \n",
       "5 2013-05-01 07:00:00        2013-05-01                    \n",
       "6 2013-05-09 09:00:00        2013-05-09                    \n",
       "  incident_dateonly_created is_active calfire_incident notification_desired\n",
       "1 2017-10-31                N         FALSE            FALSE               \n",
       "2 2009-05-24                N          TRUE            FALSE               \n",
       "3 2013-02-24                N          TRUE            FALSE               \n",
       "4 2013-04-20                N         FALSE            FALSE               \n",
       "5 2013-04-30                N          TRUE            FALSE               \n",
       "6 2013-05-01                N          TRUE            FALSE               "
      ]
     },
     "metadata": {},
     "output_type": "display_data"
    }
   ],
   "source": [
    "head(calfire)"
   ]
  },
  {
   "cell_type": "code",
   "execution_count": null,
   "metadata": {},
   "outputs": [],
   "source": []
  },
  {
   "cell_type": "code",
   "execution_count": null,
   "metadata": {},
   "outputs": [],
   "source": [
    "counties <- st_as_sf(maps::map(\"county\", plot = FALSE, fill = TRUE))\n",
    "counties <- subset(counties, grepl(\"california\", counties$ID))"
   ]
  },
  {
   "cell_type": "code",
   "execution_count": null,
   "metadata": {},
   "outputs": [],
   "source": [
    "fig(15,15)\n",
    "ggplot() +\n",
    "  geom_sf() +\n",
    "  geom_sf(data = counties, fill = 'black', color = gray(.5)) +\n",
    "  geom_point(data = fires_plot, aes(x = LONGITUDE, y = LATITUDE, color = FIRE_YEAR), alpha = .05) +\n",
    "  scale_color_viridis(option = 'plasma') +\n",
    "  theme_void(base_size = 25)"
   ]
  }
 ],
 "metadata": {
  "kernelspec": {
   "display_name": "R",
   "language": "R",
   "name": "ir"
  },
  "language_info": {
   "codemirror_mode": "r",
   "file_extension": ".r",
   "mimetype": "text/x-r-source",
   "name": "R",
   "pygments_lexer": "r",
   "version": "4.0.3"
  }
 },
 "nbformat": 4,
 "nbformat_minor": 4
}
