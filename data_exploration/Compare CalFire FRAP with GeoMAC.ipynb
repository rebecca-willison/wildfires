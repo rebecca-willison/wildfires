{
 "cells": [
  {
   "cell_type": "markdown",
   "metadata": {},
   "source": [
    "# Prepare final California wildfire dataset\n",
    "Main dataset is GeoMAC dataset available from NIFC.  \n",
    "Accessed on 10/9/20 from https://data-nifc.opendata.arcgis.com/datasets/historic-geomac-perimeters-combined-2000-2018\n",
    "All of the fires from CalFire are missing the starting date of the fire, so join with data accessed on 1/18/21 from https://frap.fire.ca.gov/mapping/gis-data/. Used years 1980-2018."
   ]
  },
  {
   "cell_type": "markdown",
   "metadata": {},
   "source": [
    "### Attach packages"
   ]
  },
  {
   "cell_type": "code",
   "execution_count": null,
   "metadata": {},
   "outputs": [],
   "source": [
    "# data wrangling\n",
    "library(dplyr)\n",
    "library(tidyr)\n",
    "# for plotting\n",
    "library(ggplot2)\n",
    "library(viridis)\n",
    "library(ggpubr)\n",
    "# spatial packages\n",
    "library(sf)\n",
    "library(lwgeom)\n",
    "# some source functions\n",
    "work_dir <- '/Users/rebeccawillison/Documents/research/wildfire/wildfires'\n",
    "source(paste(work_dir, 'src/lonlat_to_state.R', sep = '/'))\n",
    "fig <- function(width, heigth){\n",
    " options(repr.plot.width = width, repr.plot.height = heigth)\n",
    " }"
   ]
  },
  {
   "cell_type": "markdown",
   "metadata": {},
   "source": [
    "### Prepare CalFire dataset\n",
    "Load this one first to get projection info"
   ]
  },
  {
   "cell_type": "code",
   "execution_count": null,
   "metadata": {},
   "outputs": [],
   "source": [
    "calfire_gdb <- 'data/fire19_1.gdb'\n",
    "calfire <- st_read(dsn = paste(work_dir, calfire_gdb, sep = '/'), layer = 'firep19_1') %>%\n",
    "  dplyr::filter(as.numeric(YEAR_) >= 1980,\n",
    "                as.numeric(YEAR_) <= 2020,\n",
    "                GIS_ACRES >= 10, \n",
    "                STATE == 'CA') %>%\n",
    "  st_cast(., 'MULTIPOLYGON') # to fix Unknown WKB type 12 error\n",
    "calfire_proj <- st_crs(calfire)\n",
    "#calfire_wgs <- st_transform(calfire, 4326)\n",
    "#calfire <- st_cast(calfire, 'MULTIPOLYGON') # to fix Unknown WKB type 12 error\n",
    "#calfire_sp <- as_Spatial(calfire_cast) # convert to sp object "
   ]
  },
  {
   "cell_type": "markdown",
   "metadata": {},
   "source": [
    "### Prepare GeoMAC dataset"
   ]
  },
  {
   "cell_type": "code",
   "execution_count": null,
   "metadata": {},
   "outputs": [],
   "source": [
    "#0. load from shapefile\n",
    "geomac_path <- 'data/Interagency_Fire_Perimeter_History_All_Years_Read_Only-shp/InteragencyFirePerimeterHistory.shp'\n",
    "geomacs <- st_read(paste(work_dir, geomac_path, sep = '/'))\n",
    "# transform to projected CRS for calculations\n",
    "geomacs <- st_transform(geomacs, calfire_proj)"
   ]
  },
  {
   "cell_type": "code",
   "execution_count": null,
   "metadata": {},
   "outputs": [],
   "source": [
    "#1. determine centroids of fires\n",
    "centroids <- geomacs %>% \n",
    "  st_centroid() %>% \n",
    "  st_transform(., 4326) %>%\n",
    "  st_coordinates() %>%\n",
    "  data.frame %>%\n",
    "  dplyr::rename(LONGITUDE = X,\n",
    "                LATITUDE = Y)\n",
    "geomacs <- cbind(geomacs, centroids) %>% dplyr::filter(!is.na(LONGITUDE))"
   ]
  },
  {
   "cell_type": "code",
   "execution_count": null,
   "metadata": {},
   "outputs": [],
   "source": [
    "#2. determine state from centroids (use high resolution state boundaries)\n",
    "USA_gadm <- st_read(dsn = paste(work_dir, 'data/gadm36_USA.gpkg', sep = '/'), layer = 'gadm36_USA_1')\n",
    "states <- lonlat_to_state(centroids %>% drop_na, states = USA_gadm, name_col = 'NAME_1')\n",
    "geomacs$STATE <- states"
   ]
  },
  {
   "cell_type": "markdown",
   "metadata": {},
   "source": [
    "Many points still fall outside California perimeter (zoomed in to California region):"
   ]
  },
  {
   "cell_type": "code",
   "execution_count": null,
   "metadata": {},
   "outputs": [],
   "source": [
    "fig(12,8)\n",
    "ggplot(geomacs %>% dplyr::filter(is.na(STATE)), aes(LONGITUDE, LATITUDE)) +\n",
    "  geom_point(size = 5, alpha = .7, color = 'firebrick2') +\n",
    "  borders(\"state\") +\n",
    "  theme_void(base_size = 25) +\n",
    "  coord_map(xlim = c(-130, -110), ylim = c(30, 44)) +\n",
    "  ggtitle(\"Points from GeoMAC dataset that don't intersect\\nGADM 3.6 geometries.\") "
   ]
  },
  {
   "cell_type": "code",
   "execution_count": null,
   "metadata": {},
   "outputs": [],
   "source": [
    "#3. for fires with undetermined state from previous state, capture a few more\n",
    "#   with loosely defined rules\n",
    "geomacs[which(is.na(geomacs$STATE) & \n",
    "                    geomacs$LATITUDE < 42 &\n",
    "                    geomacs$LATITUDE > 32.5 &\n",
    "                    geomacs$LONGITUDE > -124.4 &\n",
    "                    geomacs$LONGITUDE < -114.1), 'STATE'] <- 'California'\n",
    "#4. filter for fires in California during time period of interest\n",
    "geomac_ca <- geomacs %>%\n",
    "  dplyr::filter(STATE == 'California',\n",
    "                FIRE_YEAR >= '1980',\n",
    "                FIRE_YEAR <= '2018',\n",
    "                GIS_ACRES >= 10)\n",
    "#5. get dataframe only\n",
    "geomac_ca_df <- st_drop_geometry(geomac_ca)"
   ]
  },
  {
   "cell_type": "markdown",
   "metadata": {},
   "source": [
    "A high number of remaining fires are missing ignition date, with the majority coming from CalFire."
   ]
  },
  {
   "cell_type": "code",
   "execution_count": null,
   "metadata": {},
   "outputs": [],
   "source": [
    "fig(15,5)\n",
    "# check how many are missing ignition date\n",
    "missing_dates <- data.frame(table(is.na(geomac_ca_df$DATE_CUR)))\n",
    "a <- ggplot(missing_dates, aes('All', Freq, fill = Var1)) +\n",
    "  geom_bar(stat = 'identity') +\n",
    "  theme_bw(base_size = 25) +\n",
    "  labs(fill = 'Missing Date', x = 'Source') +\n",
    "  scale_fill_manual(values = c('forestgreen', 'firebrick2')) \n",
    "\n",
    "# plot missing date by source\n",
    "missing_dates_by_source <- data.frame(table(geomac_ca_df$SOURCE, is.na(geomac_ca_df$DATE_CUR)))\n",
    "b <- ggplot(missing_dates_by_source, aes(Var1, Freq, fill = Var2)) +\n",
    "  geom_bar(stat = 'identity') +\n",
    "  theme_bw(base_size = 25) +\n",
    "  labs(fill = 'Missing Date', x = 'Source') +\n",
    "  scale_fill_manual(values = c('forestgreen', 'firebrick2')) +\n",
    "  theme(axis.text.x = element_text(angle = 90))\n",
    "ggarrange(a, b)"
   ]
  },
  {
   "cell_type": "markdown",
   "metadata": {},
   "source": [
    "Compare number of fires in CalFire dataset to number of fires in GeoMAC dataset that come from CalFire:"
   ]
  },
  {
   "cell_type": "code",
   "execution_count": null,
   "metadata": {},
   "outputs": [],
   "source": [
    "## summarize CalFire\n",
    "calfire_nfires <- st_drop_geometry(calfire) %>%\n",
    "  dplyr::group_by(YEAR_) %>%\n",
    "  dplyr::summarize(N = n(),\n",
    "                   Acres = sum(GIS_ACRES)) %>%\n",
    "  dplyr::rename(Year = YEAR_) %>%\n",
    "  dplyr::mutate(Dataset = 'CalFire')\n",
    "\n",
    "## summarize GeoMAC\n",
    "geomac_nfires <- geomac_ca_df %>%\n",
    "  #dplyr::filter(!(FID %in% c(43622, 81013, 43126))) %>%\n",
    "  dplyr::group_by(FIRE_YEAR) %>%\n",
    "  dplyr::summarise(N = n(),\n",
    "                  Acres = sum(GIS_ACRES)) %>%\n",
    "  dplyr::rename(Year = FIRE_YEAR) %>%\n",
    "  dplyr::mutate(Dataset = 'GeoMAC')\n",
    "\n",
    "## join together\n",
    "nfires <- calfire_nfires %>%\n",
    "  dplyr::bind_rows(geomac_nfires)\n",
    "\n",
    "## plot total number of fires\n",
    "ggplot(nfires, aes(as.numeric(as.character(Year)), N, group = Dataset, color = Dataset)) +\n",
    "  geom_line(size = 2) +\n",
    "  theme_bw(base_size = 25) +\n",
    "  scale_color_manual(values = c('dodgerblue2', 'orchid2', 'orange')) +\n",
    "  labs(x = 'Year')\n",
    "\n",
    "## plot total acres burned\n",
    "ggplot(nfires, aes(as.numeric(as.character(Year)), Acres, group = Dataset, color = Dataset)) +\n",
    "  geom_line(size = 2) +\n",
    "  theme_bw(base_size = 25) +\n",
    "  scale_color_manual(values = c('dodgerblue2', 'orchid2', 'orange')) +\n",
    "  labs(x = 'Year')"
   ]
  },
  {
   "cell_type": "markdown",
   "metadata": {},
   "source": [
    "GeoMAC (all sources) and CalFire are very similar in total numbers, although later years start to show more deviations. Fires can be cross-referenced using LOCAL_NUM in GeoMAC and INC_NUM in CalFire. "
   ]
  },
  {
   "cell_type": "code",
   "execution_count": null,
   "metadata": {},
   "outputs": [],
   "source": [
    "geomac_local_nums <- unique(geomac_ca_df$LOCAL_NUM)\n",
    "calfire_inc_nums <- unique(calfire$INC_NUM)\n",
    "geomac_in_calfire <- geomac_local_nums[geomac_local_nums %in% calfire_inc_nums]\n",
    "calfire_in_geomac <- calfire_inc_nums[calfire_inc_nums %in% geomac_local_nums]\n",
    "\n",
    "message(paste('Unique GeoMAC LOCAL_NUM:', length(geomac_local_nums)))\n",
    "message(paste('Unique CalFire INC_NUM:', length(calfire_inc_nums)))\n",
    "message(paste0('Fires in common: ', \n",
    "               length(geomac_in_calfire), \" (\",  \n",
    "               round(length(geomac_in_calfire)/length(geomac_local_nums)*100),\n",
    "               \"% of GeoMAC)\"))\n",
    "\n",
    "geomac_not_in_calfire <- geomac_ca_df %>% \n",
    "  dplyr::filter(!(LOCAL_NUM %in% unique(calfire$INC_NUM)),\n",
    "                !is.na(DATE_CUR))\n",
    "message(paste('Number of GeoMAC records not in CalFire (that have dates):', nrow(geomac_not_in_calfire)))\n",
    "table(geomac_not_in_calfire$SOURCE)\n",
    "\n",
    "calfire_not_in_geomac <- calfire %>% \n",
    "  dplyr::filter(!(INC_NUM %in% unique(geomac_ca_df$LOCAL_NUM)),\n",
    "                !is.na(ALARM_DATE))\n",
    "message(paste('Number of CalFire records not in GeoMAC (that have dates, but dates may not be sensible):', nrow(calfire_not_in_geomac)))\n",
    "table(calfire_not_in_geomac$AGENCY)"
   ]
  },
  {
   "cell_type": "markdown",
   "metadata": {},
   "source": [
    "Randomly checking matching sources and years from both datasets I did not notice any fires that appear to be non-matching duplicates. Conclusion: it is reasonable to combine both datasets and gain additional fires."
   ]
  },
  {
   "cell_type": "markdown",
   "metadata": {},
   "source": [
    "### Join GeoMAC and CalFire to make one dataset to rule them all"
   ]
  },
  {
   "cell_type": "markdown",
   "metadata": {},
   "source": [
    "#### 1. All of Calfire\n",
    "Start with CalFire because more complete attributes"
   ]
  },
  {
   "cell_type": "code",
   "execution_count": null,
   "metadata": {},
   "outputs": [],
   "source": [
    "# get centroids from calfire dataset\n",
    "centroids <- calfire %>% \n",
    "  st_centroid() %>% \n",
    "  st_transform(., 4326) %>%\n",
    "  st_coordinates() %>%\n",
    "  data.frame %>%\n",
    "  dplyr::rename(LONGITUDE = X,\n",
    "                LATITUDE = Y)\n",
    "calfire <- cbind(calfire, centroids)\n",
    "\n",
    "data1 <- st_drop_geometry(calfire) %>% \n",
    "  dplyr::select(YEAR_, AGENCY, INC_NUM, ALARM_DATE, GIS_ACRES, LONGITUDE, LATITUDE) %>%\n",
    "  dplyr::rename(FIRE_YEAR = YEAR_,\n",
    "                SOURCE = AGENCY,\n",
    "                LOCAL_NUM = INC_NUM,\n",
    "                DATE_CUR = ALARM_DATE) %>%\n",
    "  dplyr::mutate(DATE_CUR = as.Date(DATE_CUR)) %>%\n",
    "  dplyr::filter(!is.na(DATE_CUR))"
   ]
  },
  {
   "cell_type": "markdown",
   "metadata": {},
   "source": [
    "#### 2. Add fires in GeoMAC not in CalFire"
   ]
  },
  {
   "cell_type": "code",
   "execution_count": null,
   "metadata": {},
   "outputs": [],
   "source": [
    "data2 <- geomac_ca_df %>%\n",
    "  dplyr::filter(!(LOCAL_NUM %in% unique(calfire$INC_NUM))) %>%\n",
    "  dplyr::select(FIRE_YEAR, SOURCE, LOCAL_NUM, DATE_CUR, GIS_ACRES, LONGITUDE, LATITUDE) %>%\n",
    "  dplyr::mutate(DATE_CUR = as.Date(substr(DATE_CUR, 1, 8), '%Y%m%d'),\n",
    "                testYear = format(DATE_CUR, '%Y')) %>%\n",
    "  dplyr::filter(FIRE_YEAR == testYear) %>%\n",
    "  dplyr::select(-testYear)"
   ]
  },
  {
   "cell_type": "markdown",
   "metadata": {},
   "source": [
    "#### 3. Stick them together -- nevermind IDs are not unique :("
   ]
  },
  {
   "cell_type": "code",
   "execution_count": null,
   "metadata": {},
   "outputs": [],
   "source": [
    "all_fires <- rbind(data1, data2)"
   ]
  },
  {
   "cell_type": "code",
   "execution_count": null,
   "metadata": {},
   "outputs": [],
   "source": [
    "calfire_not_in_geomac %>% dplyr::filter(AGENCY == 'BIA')\n",
    "geomac_not_in_calfire %>% dplyr::filter(SOURCE == 'BIA') %>% dplyr::select(-c(STATE, MAP_METHOD, USER_NAME))"
   ]
  },
  {
   "cell_type": "code",
   "execution_count": null,
   "metadata": {},
   "outputs": [],
   "source": [
    "geomac_notCF <- subset(geomac_ca, !(LOCAL_NUM %in% unique(calfire$INC_NUM)))\n",
    "leaflet(geomac_notCF) %>%\n",
    " addProviderTiles(providers$Esri.WorldImagery) %>%\n",
    " addPolygons()"
   ]
  },
  {
   "cell_type": "code",
   "execution_count": null,
   "metadata": {},
   "outputs": [],
   "source": [
    "ids <- data1 %>%\n",
    "  dplyr::group_by(LOCAL_NUM, SOURCE) %>%\n",
    "  dplyr::summarize(N = n())\n",
    "table(ids$N, ids$SOURCE)\n",
    "head(ids %>% dplyr::filter(N>1, !(is.na(LOCAL_NUM)), LOCAL_NUM!='', LOCAL_NUM!='00000000', SOURCE == 'CCO'))"
   ]
  },
  {
   "cell_type": "code",
   "execution_count": null,
   "metadata": {},
   "outputs": [],
   "source": [
    "all_fires %>% dplyr::filter(LOCAL_NUM == '00831236')%>% arrange(DATE_CUR)"
   ]
  },
  {
   "cell_type": "code",
   "execution_count": null,
   "metadata": {},
   "outputs": [],
   "source": [
    "leaflet(calfire_wgs) %>%\n",
    " addProviderTiles(providers$Esri.WorldImagery) %>%\n",
    " addPolygons()"
   ]
  },
  {
   "cell_type": "code",
   "execution_count": null,
   "metadata": {},
   "outputs": [],
   "source": [
    "library(leaflet)"
   ]
  },
  {
   "cell_type": "code",
   "execution_count": null,
   "metadata": {},
   "outputs": [],
   "source": [
    "8224/(8234+563)"
   ]
  },
  {
   "cell_type": "code",
   "execution_count": null,
   "metadata": {},
   "outputs": [],
   "source": [
    "geomac_wgs <- st_transform(geomac_ca, 4326)\n",
    "calfire_wgs <- st_transform(calfire, 4326)"
   ]
  },
  {
   "cell_type": "code",
   "execution_count": null,
   "metadata": {},
   "outputs": [],
   "source": [
    "head(calfire_wgs %>% dplyr::filter(INC_NUM == '00312031')) %>% arrange(ALARM_DATE)"
   ]
  },
  {
   "cell_type": "code",
   "execution_count": null,
   "metadata": {},
   "outputs": [],
   "source": [
    "nfires %>% dplyr::filter(Year %in% c('2015','2016','2017', '2018'))"
   ]
  },
  {
   "cell_type": "code",
   "execution_count": null,
   "metadata": {},
   "outputs": [],
   "source": [
    "#geomac_not_in_calfire <- geomac_ca_df %>% \n",
    "#  dplyr::filter(!(LOCAL_NUM %in% unique(calfire$INC_NUM)),\n",
    "#                !is.na(DATE_CUR))\n",
    "\n",
    "## summarize CalFire\n",
    "#calfire_nfires <- st_drop_geometry(calfire_not_in_geomac) %>%\n",
    "#  dplyr::group_by(YEAR_) %>%\n",
    "#  dplyr::summarize(N = n(),\n",
    "#                   Acres = sum(GIS_ACRES)) %>%\n",
    "#  dplyr::rename(Year = YEAR_) %>%\n",
    "#  dplyr::mutate(Dataset = 'CalFire Excess')\n",
    "calfire_nfires <- data1 %>%\n",
    "  dplyr::filter(!(LOCAL_NUM %in% unique(geomac_ca_df$LOCAL_NUM))) %>%\n",
    "  dplyr::group_by(FIRE_YEAR) %>%\n",
    "  dplyr::summarize(N = n(),\n",
    "                   Acres = sum(GIS_ACRES)) %>%\n",
    "  dplyr::rename(Year = FIRE_YEAR) %>%\n",
    "  dplyr::mutate(Dataset = 'CalFire')\n",
    "\n",
    "## summarize GeoMAC\n",
    "geomac_nfires <- data2 %>%\n",
    "  #dplyr::filter(!(FID %in% c(43622, 81013, 43126))) %>%\n",
    "  dplyr::group_by(FIRE_YEAR) %>%\n",
    "  dplyr::summarise(N = n(),\n",
    "                  Acres = sum(GIS_ACRES)) %>%\n",
    "  dplyr::rename(Year = FIRE_YEAR) %>%\n",
    "  dplyr::mutate(Dataset = 'GeoMAC')\n",
    "\n",
    "## join together\n",
    "nfires <- calfire_nfires %>%\n",
    "  dplyr::bind_rows(geomac_nfires)\n",
    "\n",
    "## plot total number of fires\n",
    "ggplot(nfires, aes(as.numeric(as.character(Year)), N, group = Dataset, color = Dataset)) +\n",
    "  geom_line(size = 2) +\n",
    "  theme_bw(base_size = 25) +\n",
    "  scale_color_manual(values = c('dodgerblue2', 'orchid2', 'orange')) +\n",
    "  labs(x = 'Year', title = 'Excess fires (complete data)')\n",
    "\n",
    "## plot total acres burned\n",
    "ggplot(nfires, aes(as.numeric(as.character(Year)), Acres, group = Dataset, color = Dataset)) +\n",
    "  geom_line(size = 2) +\n",
    "  theme_bw(base_size = 25) +\n",
    "  scale_color_manual(values = c('dodgerblue2', 'orchid2', 'orange')) +\n",
    "  labs(x = 'Year')"
   ]
  },
  {
   "cell_type": "code",
   "execution_count": null,
   "metadata": {},
   "outputs": [],
   "source": [
    "tmp <- geomac_not_in_calfire %>% dplyr::filter(FIRE_YEAR == '2018') %>% dplyr::arrange(desc(GIS_ACRES)) %>% head\n",
    "tmp[1,'LATITUDE'] == tmp[2, 'LATITUDE']\n",
    "tmp[1,'LONGITUDE'] == tmp[2, 'LONGITUDE']"
   ]
  },
  {
   "cell_type": "code",
   "execution_count": null,
   "metadata": {},
   "outputs": [],
   "source": [
    "nfires"
   ]
  },
  {
   "cell_type": "code",
   "execution_count": null,
   "metadata": {},
   "outputs": [],
   "source": []
  }
 ],
 "metadata": {
  "kernelspec": {
   "display_name": "R",
   "language": "R",
   "name": "ir"
  },
  "language_info": {
   "codemirror_mode": "r",
   "file_extension": ".r",
   "mimetype": "text/x-r-source",
   "name": "R",
   "pygments_lexer": "r",
   "version": "4.0.3"
  }
 },
 "nbformat": 4,
 "nbformat_minor": 4
}
