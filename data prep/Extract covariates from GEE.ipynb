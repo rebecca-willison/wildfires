{
 "cells": [
  {
   "cell_type": "markdown",
   "metadata": {},
   "source": [
    "# Extract covariates from Google Earth Engine"
   ]
  },
  {
   "cell_type": "markdown",
   "metadata": {},
   "source": [
    "### Load libraries, intialize GEE connection, define functions"
   ]
  },
  {
   "cell_type": "code",
   "execution_count": 124,
   "metadata": {},
   "outputs": [],
   "source": [
    "import ee\n",
    "import eeconvert\n",
    "import geemap.eefolium as geemap\n",
    "import pandas as pd\n",
    "import geopandas as gpd\n",
    "ee.Initialize()"
   ]
  },
  {
   "cell_type": "markdown",
   "metadata": {},
   "source": [
    "Function for intersecting points of interest with ee.Image objects and extracting values of bands. "
   ]
  },
  {
   "cell_type": "code",
   "execution_count": 125,
   "metadata": {},
   "outputs": [],
   "source": [
    "# df: pandas dataframe with points, coordinates as LONGITUDE, LATITUDE\n",
    "# id_col: character, column name of ID that will identify points in output file\n",
    "# batch: character, column name to use for processing in batches\n",
    "# image: ee.Image name to extract bands from\n",
    "# outpath: path to write result dataframe\n",
    "\n",
    "def ee_sample_regions_to_csv(df, id_col, batch, image, outpath):\n",
    "    # break in batches by years to reduce size of data return\n",
    "    batches = df[batch].unique()\n",
    "    # create empty dataframe to append output\n",
    "    features_df = pd.DataFrame()\n",
    "    # loop over years\n",
    "    for i in batches:\n",
    "        # filter to data from given year\n",
    "        tmp_df = df[df[batch] == i]\n",
    "        # convert to geopandas dataframe\n",
    "        gdf = gpd.GeoDataFrame(tmp_df, geometry = gpd.points_from_xy(tmp_df.LONGITUDE, tmp_df.LATITUDE))\n",
    "        # convert to ee.FeatureCollection\n",
    "        fc = eeconvert.gdfToFc(gdf)\n",
    "        # sample points in batch\n",
    "        values = image.sampleRegions(**{\n",
    "            'collection': fc,\n",
    "            'properties': [id_col],\n",
    "            'scale': 10})\n",
    "        # extract data from EE object\n",
    "        output = values.getInfo()\n",
    "        # convert to pandas dataframe\n",
    "        features = output['features']\n",
    "        for i in range(len(features)):\n",
    "            item = features[i]\n",
    "            features_df = features_df.append(item['properties'], ignore_index=True)\n",
    "    features_df.to_csv(outpath)"
   ]
  },
  {
   "cell_type": "markdown",
   "metadata": {},
   "source": [
    "### State boundary"
   ]
  },
  {
   "cell_type": "code",
   "execution_count": 126,
   "metadata": {},
   "outputs": [],
   "source": [
    "ca_fc = ee.FeatureCollection(\"TIGER/2018/States\").filter(ee.Filter.eq('NAME', 'California'))\n",
    "ca_geom = ca_fc.geometry()"
   ]
  },
  {
   "cell_type": "markdown",
   "metadata": {},
   "source": [
    "### FPA-FOD wildfire occurrence data\n",
    "filter for fires greater than 10 acres (remove classes A and B)"
   ]
  },
  {
   "cell_type": "code",
   "execution_count": 127,
   "metadata": {},
   "outputs": [],
   "source": [
    "fpa_fod = pd.read_csv('/Users/rebeccawillison/Documents/research/wildfire/wildfires/data/ca_fires.csv',\n",
    "                        usecols=['FOD_ID', 'FIRE_YEAR', 'DISCOVERY_DATE', 'DISCOVERY_DOY', 'STAT_CAUSE_DESCR',\n",
    "                                 'FIRE_SIZE', 'FIRE_SIZE_CLASS', 'LATITUDE', 'LONGITUDE'])\n",
    "fire_classes = ['C', 'D', 'E', 'F', 'G']\n",
    "wildfires = fpa_fod[fpa_fod['FIRE_SIZE_CLASS'].isin(fire_classes)]"
   ]
  },
  {
   "cell_type": "markdown",
   "metadata": {},
   "source": [
    "### Static features\n",
    "USGS National Elevation Dataset 1/3 arc-second (https://developers.google.com/earth-engine/datasets/catalog/USGS_NED?hl=en)      \n",
    "\n",
    "Global Human Modification Dataset (https://developers.google.com/earth-engine/datasets/catalog/CSP_HM_GlobalHumanModification)"
   ]
  },
  {
   "cell_type": "code",
   "execution_count": 94,
   "metadata": {},
   "outputs": [],
   "source": [
    "# NED elevation dataset \n",
    "NED = ee.Image(\"USGS/NED\").clip(ca_geom)\n",
    "# calculate slope\n",
    "slope = ee.Terrain.slope(NED)\n",
    "# calculate aspect\n",
    "aspect = ee.Terrain.aspect(NED)\n",
    "# global human modication dataset\n",
    "ghm_ic = ee.ImageCollection(\"CSP/HM/GlobalHumanModification\").filterBounds(ca_geom)\n",
    "ghm = ghm_ic.reduce(ee.Reducer.median()).clip(ca_geom)\n",
    "\n",
    "# add as bands to create one image\n",
    "topo = NED.addBands(slope).addBands(aspect).addBands(ghm)\n",
    "\n",
    "# extract feature values for points\n",
    "fp = '/Users/rebeccawillison/Documents/research/wildfire/wildfires/data/GEE Layers/StaticFeatures.csv'\n",
    "ee_sample_regions_to_csv(df = wildfires, id_col = 'FOD_ID', batch = 'FIRE_YEAR', image = topo, outpath = fp)"
   ]
  },
  {
   "cell_type": "code",
   "execution_count": 128,
   "metadata": {},
   "outputs": [],
   "source": [
    "# LANDFIRE layers\n",
    "frg = ee.ImageCollection(\"LANDFIRE/Fire/FRG/v1_2_0\").filterBounds(ca_geom).toBands().clip(ca_geom)\n",
    "mfri = ee.ImageCollection(\"LANDFIRE/Fire/MFRI/v1_2_0\").filterBounds(ca_geom).toBands().clip(ca_geom)\n",
    "pls = ee.ImageCollection(\"LANDFIRE/Fire/PLS/v1_2_0\").filterBounds(ca_geom).toBands().clip(ca_geom)\n",
    "pms = ee.ImageCollection(\"LANDFIRE/Fire/PMS/v1_2_0\").filterBounds(ca_geom).toBands().clip(ca_geom)\n",
    "prs = ee.ImageCollection(\"LANDFIRE/Fire/PRS/v1_2_0\").filterBounds(ca_geom).toBands().clip(ca_geom)\n",
    "sclass = ee.ImageCollection(\"LANDFIRE/Fire/SClass/v1_4_0\").filterBounds(ca_geom).toBands().clip(ca_geom)\n",
    "vcc = ee.ImageCollection(\"LANDFIRE/Fire/VCC/v1_4_0\").filterBounds(ca_geom).toBands().clip(ca_geom)\n",
    "vdep = ee.ImageCollection(\"LANDFIRE/Fire/VDep/v1_4_0\").filterBounds(ca_geom).toBands().clip(ca_geom)\n",
    "bps = ee.ImageCollection(\"LANDFIRE/Vegetation/BPS/v1_4_0\").filterBounds(ca_geom).toBands().clip(ca_geom)\n",
    "evc = ee.ImageCollection(\"LANDFIRE/Vegetation/EVC/v1_4_0\").filterBounds(ca_geom).toBands().clip(ca_geom)\n",
    "evh = ee.ImageCollection(\"LANDFIRE/Vegetation/EVH/v1_4_0\").filterBounds(ca_geom).toBands().clip(ca_geom)\n",
    "evt = ee.ImageCollection(\"LANDFIRE/Vegetation/EVT/v1_4_0\").filterBounds(ca_geom).toBands().clip(ca_geom)\n",
    "esp = ee.Image(\"LANDFIRE/Vegetation/ESP/v1_2_0/CONUS\").clip(ca_geom) \n",
    "gap = ee.Image(\"USGS/GAP/CONUS/2011\").clip(ca_geom)\n",
    "\n",
    "lf = frg.addBands(mfri).addBands(pls).addBands(pms).addBands(prs).addBands(sclass).addBands(vcc).addBands(vdep) \\\n",
    "        .addBands(bps).addBands(evc).addBands(evh).addBands(evt).addBands(esp).addBands(gap)\n",
    "\n",
    "# extract feature values for points\n",
    "fp = '/Users/rebeccawillison/Documents/research/wildfire/wildfires/data/GEE Layers/LANDFIREFeatures.csv'\n",
    "ee_sample_regions_to_csv(df = wildfires, id_col = 'FOD_ID', batch = 'FIRE_YEAR', image = lf, outpath = fp)"
   ]
  },
  {
   "cell_type": "markdown",
   "metadata": {},
   "source": [
    "### Low temporal frequency layers\n",
    "Population density (https://developers.google.com/earth-engine/datasets/catalog/CIESIN_GPWv411_GPW_Population_Density)\n",
    "\n",
    "MODIS yearly land cover (https://developers.google.com/earth-engine/datasets/catalog/MODIS_006_MCD12Q1)\n",
    "\n",
    "Cropland data layer (https://developers.google.com/earth-engine/datasets/catalog/USDA_NASS_CDL)"
   ]
  },
  {
   "cell_type": "code",
   "execution_count": 118,
   "metadata": {},
   "outputs": [],
   "source": [
    "# population density, every 5 years\n",
    "pop = ee.ImageCollection(\"CIESIN/GPWv411/GPW_Population_Density\").filterBounds(ca_geom).toBands().clip(ca_geom)\n",
    "# extract feature values for points\n",
    "fp = '/Users/rebeccawillison/Documents/research/wildfire/wildfires/data/GEE Layers/PopDensFeatures.csv'\n",
    "ee_sample_regions_to_csv(df = wildfires, id_col = 'FOD_ID', batch = 'FIRE_YEAR', image = pop, outpath = fp)"
   ]
  },
  {
   "cell_type": "code",
   "execution_count": 113,
   "metadata": {},
   "outputs": [],
   "source": [
    "# MODIS land cover classification, yearly\n",
    "modis = ee.ImageCollection(\"MODIS/006/MCD12Q1\").filterBounds(ca_geom).toBands().clip(ca_geom)\n",
    "# extract feature values for points\n",
    "fp = '/Users/rebeccawillison/Documents/research/wildfire/wildfires/data/GEE Layers/MODISFeatures.csv'\n",
    "ee_sample_regions_to_csv(df = wildfires, id_col = 'FOD_ID', batch = 'FIRE_YEAR', image = modis, outpath = fp)"
   ]
  },
  {
   "cell_type": "code",
   "execution_count": 123,
   "metadata": {},
   "outputs": [],
   "source": [
    "# USDA NASS CDL classification, yearly\n",
    "def getCrop(image):\n",
    "    return(image.select('cropland'))\n",
    "band_nos = list(range(3, 15))\n",
    "cdl = ee.ImageCollection(\"USDA/NASS/CDL\").filterBounds(ca_geom).map(getCrop).toBands().clip(ca_geom).select(band_nos)\n",
    "# extract feature values for points\n",
    "fp = '/Users/rebeccawillison/Documents/research/wildfire/wildfires/data/GEE Layers/CDLFeatures.csv'\n",
    "ee_sample_regions_to_csv(df = wildfires, id_col = 'FOD_ID', batch = 'FIRE_YEAR', image = cdl, outpath = fp)"
   ]
  },
  {
   "cell_type": "markdown",
   "metadata": {},
   "source": [
    "### High temporal freqency layers\n",
    "MODIS Fire_cci Burned Area Pixel product (https://developers.google.com/earth-engine/datasets/catalog/ESA_CCI_FireCCI_5_1)\n",
    "GRIDMET Gridded Surface Meteorological Dataset (https://developers.google.com/earth-engine/datasets/catalog/IDAHO_EPSCOR_GRIDMET)\n",
    "GRIDMET Drought Dataset (https://developers.google.com/earth-engine/datasets/catalog/GRIDMET_DROUGHT)"
   ]
  },
  {
   "cell_type": "code",
   "execution_count": 129,
   "metadata": {},
   "outputs": [],
   "source": [
    "# MODIS layers - download individual bands to reduce data size due to monthly frequency\n",
    "# observed flag\n",
    "def getFlag(image):\n",
    "    return(image.select('ObservedFlag'))\n",
    "flag = ee.ImageCollection(\"ESA/CCI/FireCCI/5_1\").filterBounds(ca_geom).map(getFlag).toBands().clip(ca_geom)\n",
    "fp = '/Users/rebeccawillison/Documents/research/wildfire/wildfires/data/GEE Layers/MODISFlagFeatures.csv'\n",
    "ee_sample_regions_to_csv(df = wildfires, id_col = 'FOD_ID', batch = 'FIRE_YEAR', image = flag, outpath = fp)"
   ]
  },
  {
   "cell_type": "code",
   "execution_count": 130,
   "metadata": {},
   "outputs": [
    {
     "data": {
      "text/plain": [
       "'2015-01-01'"
      ]
     },
     "execution_count": 130,
     "metadata": {},
     "output_type": "execute_result"
    }
   ],
   "source": [
    "# burned area\n",
    "def getBurned(year):\n",
    "    start_date = ee.Date(year + '-01-01')\n",
    "    end_date = ee.Date(year + '-01-01')\n",
    "    cci = ee.ImageCollection('ESA/CCI/FireCCI/5_1').filterBounds(ca_geom).filterDate(start_date, end_date) \\\n",
    "            .select('BurnDate').max()\n",
    "    \n",
    "\n",
    "fp = '/Users/rebeccawillison/Documents/research/wildfire/wildfires/data/GEE Layers/MODISCCIFeatures.csv'\n",
    "ee_sample_regions_to_csv(df = wildfires, id_col = 'FOD_ID', batch = 'FIRE_YEAR', image = cci, outpath = fp)\n",
    "\n"
   ]
  },
  {
   "cell_type": "code",
   "execution_count": null,
   "metadata": {},
   "outputs": [],
   "source": []
  }
 ],
 "metadata": {
  "kernelspec": {
   "display_name": "Python 3",
   "language": "python",
   "name": "python3"
  },
  "language_info": {
   "codemirror_mode": {
    "name": "ipython",
    "version": 3
   },
   "file_extension": ".py",
   "mimetype": "text/x-python",
   "name": "python",
   "nbconvert_exporter": "python",
   "pygments_lexer": "ipython3",
   "version": "3.7.3"
  }
 },
 "nbformat": 4,
 "nbformat_minor": 4
}
