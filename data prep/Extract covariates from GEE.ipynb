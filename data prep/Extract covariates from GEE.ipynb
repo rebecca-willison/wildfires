{
 "cells": [
  {
   "cell_type": "markdown",
   "metadata": {},
   "source": [
    "# Extract covariates from Google Earth Engine"
   ]
  },
  {
   "cell_type": "markdown",
   "metadata": {},
   "source": [
    "### Load libraries, intialize GEE connection, define functions"
   ]
  },
  {
   "cell_type": "code",
   "execution_count": null,
   "metadata": {},
   "outputs": [],
   "source": [
    "import ee\n",
    "import eeconvert\n",
    "import geemap.eefolium as geemap\n",
    "import pandas as pd\n",
    "from pandas.tseries.offsets import DateOffset\n",
    "import geopandas as gpd\n",
    "import datetime\n",
    "ee.Initialize()"
   ]
  },
  {
   "cell_type": "code",
   "execution_count": null,
   "metadata": {},
   "outputs": [],
   "source": [
    "datapath = '/Users/rebeccawillison/Documents/research/wildfire/wildfires/data/'"
   ]
  },
  {
   "cell_type": "markdown",
   "metadata": {},
   "source": [
    "Function for intersecting points of interest with ee.Image objects and extracting values of bands. "
   ]
  },
  {
   "cell_type": "code",
   "execution_count": null,
   "metadata": {},
   "outputs": [],
   "source": [
    "# df: pandas dataframe with points, coordinates as LONGITUDE, LATITUDE\n",
    "# id_col: character, column name of ID that will identify points in output file\n",
    "# batch: character, column name to use for processing in batches\n",
    "# image: ee.Image name to extract bands from\n",
    "# outpath: path to write result dataframe\n",
    "\n",
    "def ee_sample_regions_to_csv(df, id_col, batch, image, outpath, csv = True):\n",
    "    # break in batches by years to reduce size of data return\n",
    "    batches = df[batch].unique()\n",
    "    # create empty dataframe to append output\n",
    "    features_df = pd.DataFrame()\n",
    "    # loop over years\n",
    "    for i in batches:\n",
    "        # filter to data from given year\n",
    "        tmp_df = df[df[batch] == i]\n",
    "        # convert to geopandas dataframe\n",
    "        gdf = gpd.GeoDataFrame(tmp_df, geometry = gpd.points_from_xy(tmp_df.LONGITUDE, tmp_df.LATITUDE))\n",
    "        # convert to ee.FeatureCollection\n",
    "        fc = eeconvert.gdfToFc(gdf)\n",
    "        # sample points in batch\n",
    "        values = image.sampleRegions(**{\n",
    "            'collection': fc,\n",
    "            'properties': [id_col],\n",
    "            'scale': 10})\n",
    "        # extract data from EE object\n",
    "        output = values.getInfo()\n",
    "        # convert to pandas dataframe\n",
    "        features = output['features']\n",
    "        for j in range(len(features)):\n",
    "            item = features[j]\n",
    "            features_df = features_df.append(item['properties'], ignore_index=True)\n",
    "    if csv == False:\n",
    "        return(features_df)\n",
    "    else:\n",
    "        features_df.to_csv(outpath)\n"
   ]
  },
  {
   "cell_type": "markdown",
   "metadata": {},
   "source": [
    "### State boundary"
   ]
  },
  {
   "cell_type": "code",
   "execution_count": null,
   "metadata": {},
   "outputs": [],
   "source": [
    "ca_fc = ee.FeatureCollection(\"TIGER/2018/States\").filter(ee.Filter.eq('NAME', 'California'))\n",
    "ca_geom = ca_fc.geometry()"
   ]
  },
  {
   "cell_type": "markdown",
   "metadata": {},
   "source": [
    "### FPA-FOD wildfire occurrence data\n",
    "filter for fires greater than 10 acres (remove classes A and B)"
   ]
  },
  {
   "cell_type": "code",
   "execution_count": null,
   "metadata": {},
   "outputs": [],
   "source": [
    "fpa_fod = pd.read_csv(datapath + 'ca_fires_large.csv',\n",
    "                        usecols=['FOD_ID', 'FIRE_YEAR', 'DISCOVERY_DATE', 'DISCOVERY_DOY', 'STAT_CAUSE_DESCR',\n",
    "                                 'FIRE_SIZE', 'FIRE_SIZE_CLASS', 'LATITUDE', 'LONGITUDE'])\n",
    "fire_classes = ['C', 'D', 'E', 'F', 'G']\n",
    "wildfires = fpa_fod[fpa_fod['FIRE_SIZE_CLASS'].isin(fire_classes)]\n",
    "wildfires['end_date'] = pd.to_datetime(wildfires['FIRE_YEAR'] * 1000 + wildfires['DISCOVERY_DOY'], format='%Y%j')"
   ]
  },
  {
   "cell_type": "markdown",
   "metadata": {},
   "source": [
    "### Static features\n",
    "USGS National Elevation Dataset 1/3 arc-second (https://developers.google.com/earth-engine/datasets/catalog/USGS_NED?hl=en)      \n",
    "\n",
    "Global Human Modification Dataset (https://developers.google.com/earth-engine/datasets/catalog/CSP_HM_GlobalHumanModification)"
   ]
  },
  {
   "cell_type": "code",
   "execution_count": null,
   "metadata": {},
   "outputs": [],
   "source": [
    "# NED elevation dataset \n",
    "NED = ee.Image(\"USGS/NED\").clip(ca_geom)\n",
    "# calculate slope\n",
    "slope = ee.Terrain.slope(NED)\n",
    "# calculate aspect\n",
    "aspect = ee.Terrain.aspect(NED)\n",
    "# global human modication dataset\n",
    "ghm_ic = ee.ImageCollection(\"CSP/HM/GlobalHumanModification\").filterBounds(ca_geom)\n",
    "ghm = ghm_ic.reduce(ee.Reducer.median()).clip(ca_geom)\n",
    "\n",
    "# add as bands to create one image\n",
    "topo = NED.addBands(slope).addBands(aspect).addBands(ghm)\n",
    "\n",
    "# extract feature values for points\n",
    "fp = datapath + 'GEE Layers/StaticFeatures.csv'\n",
    "ee_sample_regions_to_csv(df = wildfires, id_col = 'FOD_ID', batch = 'FIRE_YEAR', image = topo, outpath = fp)\n",
    "# download geoTIFFs\n",
    "fp = datapath + 'GEE Layers/Static.tif'\n",
    "geemap.ee_export_image(topo, filename = fp, file_per_band = True, scale = 1000, crs = 'EPSG:4326')"
   ]
  },
  {
   "cell_type": "code",
   "execution_count": null,
   "metadata": {},
   "outputs": [],
   "source": [
    "# LANDFIRE layers\n",
    "frg = ee.ImageCollection(\"LANDFIRE/Fire/FRG/v1_2_0\").filterBounds(ca_geom).toBands().clip(ca_geom)\n",
    "mfri = ee.ImageCollection(\"LANDFIRE/Fire/MFRI/v1_2_0\").filterBounds(ca_geom).toBands().clip(ca_geom)\n",
    "pls = ee.ImageCollection(\"LANDFIRE/Fire/PLS/v1_2_0\").filterBounds(ca_geom).toBands().clip(ca_geom)\n",
    "pms = ee.ImageCollection(\"LANDFIRE/Fire/PMS/v1_2_0\").filterBounds(ca_geom).toBands().clip(ca_geom)\n",
    "prs = ee.ImageCollection(\"LANDFIRE/Fire/PRS/v1_2_0\").filterBounds(ca_geom).toBands().clip(ca_geom)\n",
    "sclass = ee.ImageCollection(\"LANDFIRE/Fire/SClass/v1_4_0\").filterBounds(ca_geom).toBands().clip(ca_geom)\n",
    "vcc = ee.ImageCollection(\"LANDFIRE/Fire/VCC/v1_4_0\").filterBounds(ca_geom).toBands().clip(ca_geom)\n",
    "vdep = ee.ImageCollection(\"LANDFIRE/Fire/VDep/v1_4_0\").filterBounds(ca_geom).toBands().clip(ca_geom)\n",
    "bps = ee.ImageCollection(\"LANDFIRE/Vegetation/BPS/v1_4_0\").filterBounds(ca_geom).toBands().clip(ca_geom)\n",
    "evc = ee.ImageCollection(\"LANDFIRE/Vegetation/EVC/v1_4_0\").filterBounds(ca_geom).toBands().clip(ca_geom)\n",
    "evh = ee.ImageCollection(\"LANDFIRE/Vegetation/EVH/v1_4_0\").filterBounds(ca_geom).toBands().clip(ca_geom)\n",
    "evt = ee.ImageCollection(\"LANDFIRE/Vegetation/EVT/v1_4_0\").filterBounds(ca_geom).toBands().clip(ca_geom)\n",
    "esp = ee.Image(\"LANDFIRE/Vegetation/ESP/v1_2_0/CONUS\").clip(ca_geom) \n",
    "gap = ee.Image(\"USGS/GAP/CONUS/2011\").clip(ca_geom)\n",
    "\n",
    "lf = frg.addBands(mfri).addBands(pls).addBands(pms).addBands(prs).addBands(sclass).addBands(vcc).addBands(vdep) \\\n",
    "        .addBands(bps).addBands(evc).addBands(evh).addBands(evt).addBands(esp).addBands(gap)\n",
    "\n",
    "# extract feature values for points\n",
    "fp = datapath + 'GEE Layers/LANDFIREFeatures.csv'\n",
    "ee_sample_regions_to_csv(df = wildfires, id_col = 'FOD_ID', batch = 'FIRE_YEAR', image = lf, outpath = fp)\n",
    "# extract feature values for points\n",
    "fp = datapath + 'GEE Layers/LANDFIREFeatures.tif'\n",
    "geemap.ee_export_image(lf, filename = fp, file_per_band = True, scale = 1000, crs = 'EPSG:4326')"
   ]
  },
  {
   "cell_type": "markdown",
   "metadata": {},
   "source": [
    "### Low temporal frequency layers\n",
    "Population density (https://developers.google.com/earth-engine/datasets/catalog/CIESIN_GPWv411_GPW_Population_Density)\n",
    "\n",
    "MODIS yearly land cover (https://developers.google.com/earth-engine/datasets/catalog/MODIS_006_MCD12Q1)\n",
    "\n",
    "Cropland data layer (https://developers.google.com/earth-engine/datasets/catalog/USDA_NASS_CDL)"
   ]
  },
  {
   "cell_type": "code",
   "execution_count": null,
   "metadata": {},
   "outputs": [],
   "source": [
    "# population density, every 5 years\n",
    "pop = ee.ImageCollection(\"CIESIN/GPWv411/GPW_Population_Density\").filterBounds(ca_geom).toBands().clip(ca_geom)\n",
    "# extract feature values for points\n",
    "fp = datapath + 'GEE Layers/PopDensFeatures.csv'\n",
    "ee_sample_regions_to_csv(df = wildfires, id_col = 'FOD_ID', batch = 'FIRE_YEAR', image = pop, outpath = fp)\n",
    "# download rasters\n",
    "fp = datapath + 'GEE Layers/PopDensFeatures.tif'\n",
    "geemap.ee_export_image(pop, filename = fp, file_per_band = True, scale = 1000, crs = 'EPSG:4326')"
   ]
  },
  {
   "cell_type": "code",
   "execution_count": null,
   "metadata": {},
   "outputs": [],
   "source": [
    "# MODIS land cover classification, yearly\n",
    "modis = ee.ImageCollection(\"MODIS/006/MCD12Q1\").filterBounds(ca_geom).toBands().clip(ca_geom)\n",
    "# extract feature values for points\n",
    "fp = datapath + 'GEE Layers/MODISFeatures.csv'\n",
    "ee_sample_regions_to_csv(df = wildfires, id_col = 'FOD_ID', batch = 'FIRE_YEAR', image = modis, outpath = fp)\n",
    "# download rasters\n",
    "fp = datapath + 'GEE Layers/MODISFeatures.tif'\n",
    "geemap.ee_export_image(modis, filename = fp, file_per_band = True, scale = 1000, crs = 'EPSG:4326')"
   ]
  },
  {
   "cell_type": "code",
   "execution_count": null,
   "metadata": {},
   "outputs": [],
   "source": [
    "# USDA NASS CDL classification, yearly\n",
    "def getCrop(image):\n",
    "    return(image.select('cropland'))\n",
    "band_nos = list(range(3, 15))\n",
    "cdl = ee.ImageCollection(\"USDA/NASS/CDL\").filterBounds(ca_geom).map(getCrop).toBands().clip(ca_geom).select(band_nos)\n",
    "# extract feature values for points\n",
    "fp = datapath + 'GEE Layers/CDLFeatures.csv'\n",
    "ee_sample_regions_to_csv(df = wildfires, id_col = 'FOD_ID', batch = 'FIRE_YEAR', image = cdl, outpath = fp)\n",
    "# download rasters\n",
    "fp = datapath + 'GEE Layers/CDLFeatures.tif'\n",
    "geemap.ee_export_image(cdl, filename = fp, file_per_band = True, scale = 1000, crs = 'EPSG:4326')"
   ]
  },
  {
   "cell_type": "markdown",
   "metadata": {},
   "source": [
    "### High temporal freqency layers\n",
    "MODIS Fire_cci Burned Area Pixel product (https://developers.google.com/earth-engine/datasets/catalog/ESA_CCI_FireCCI_5_1)\n",
    "\n",
    "GRIDMET Gridded Surface Meteorological Dataset (https://developers.google.com/earth-engine/datasets/catalog/IDAHO_EPSCOR_GRIDMET)\n",
    "\n",
    "GRIDMET Drought Dataset (https://developers.google.com/earth-engine/datasets/catalog/GRIDMET_DROUGHT)"
   ]
  },
  {
   "cell_type": "code",
   "execution_count": null,
   "metadata": {},
   "outputs": [],
   "source": [
    "# MODIS layers - download individual bands to reduce data size due to monthly frequency\n",
    "# observed flag\n",
    "def getFlag(image):\n",
    "    return(image.select('ObservedFlag'))\n",
    "flag = ee.ImageCollection('ESA/CCI/FireCCI/5_1').filterBounds(ca_geom).map(getFlag).toBands().clip(ca_geom)\n",
    "fp = datapath + 'GEE Layers/MODISFlagFeatures.csv'\n",
    "ee_sample_regions_to_csv(df = wildfires, id_col = 'FOD_ID', batch = 'FIRE_YEAR', image = flag, outpath = fp)"
   ]
  },
  {
   "cell_type": "code",
   "execution_count": null,
   "metadata": {},
   "outputs": [],
   "source": [
    "# function to get burned area image for one year: summarize over the year\n",
    "def getBurned(year):\n",
    "    start_date = ee.Date(year + '-01-01')\n",
    "    end_date = ee.Date(year + '-12-31')\n",
    "    cci = ee.ImageCollection('ESA/CCI/FireCCI/5_1').filterBounds(ca_geom).filterDate(start_date, end_date) \\\n",
    "            .select('BurnDate').max()\n",
    "    return(cci)\n"
   ]
  },
  {
   "cell_type": "code",
   "execution_count": null,
   "metadata": {},
   "outputs": [],
   "source": [
    "# get burned area for all years\n",
    "fp = datapath + 'GEE Layers/MODISCCIFeatures.csv'\n",
    "burnArea_df = pd.DataFrame()\n",
    "for year in range(2001,2020):\n",
    "    burnArea = getBurned(str(year))\n",
    "    tmp = ee_sample_regions_to_csv(df = wildfires, id_col = 'FOD_ID', batch = 'FIRE_YEAR', image = burnArea, outpath = fp, csv = False)\n",
    "    tmp['Year'] = year\n",
    "    burnArea_df = burnArea_df.append(tmp, ignore_index=True)\n",
    "    \n",
    "burnArea_df.to_csv(fp)"
   ]
  },
  {
   "cell_type": "markdown",
   "metadata": {},
   "source": [
    "Notes on the following code to download weather data from GRIDMET: due to the large number of datapoints to extract, requests need to be sent in small batches. In the following, I get one year of data per point at a time. This code could certainly be optimized, but it works."
   ]
  },
  {
   "cell_type": "code",
   "execution_count": null,
   "metadata": {},
   "outputs": [],
   "source": [
    "num_years = 2\n",
    "fp = datapath + 'GEE Layers/GRIDMETData.csv'\n",
    "batches = wildfires['FOD_ID'].unique()\n",
    "weather_df = pd.DataFrame()\n",
    "for i in batches:\n",
    "    # filter to data from given year\n",
    "    tmp_df = wildfires[wildfires['FOD_ID'] == i]\n",
    "    # convert to geopandas dataframe\n",
    "    gdf = gpd.GeoDataFrame(tmp_df, geometry = gpd.points_from_xy(tmp_df.LONGITUDE, tmp_df.LATITUDE))\n",
    "    # convert to ee.FeatureCollection\n",
    "    fc = eeconvert.gdfToFc(gdf)\n",
    "    for y in range(num_years):\n",
    "        # get image\n",
    "        end_date = tmp_df['end_date'] - DateOffset(years=y)\n",
    "        start_date = end_date.iloc[0] - DateOffset(years=1)\n",
    "        gm = ee.ImageCollection('IDAHO_EPSCOR/GRIDMET').filterBounds(ca_geom) \\\n",
    "                .filterDate(ee.Date(start_date), ee.Date(end_date.iloc[0])).toBands().clip(ca_geom)\n",
    "        try:\n",
    "            # sample points in batch\n",
    "            values = gm.sampleRegions(**{\n",
    "                'collection': fc,\n",
    "                'properties': ['FOD_ID'],\n",
    "                'scale': 10,\n",
    "                'tileScale': 4})\n",
    "            # extract data from EE object\n",
    "            output = values.getInfo()\n",
    "            # convert to pandas dataframe\n",
    "            features = output['features']\n",
    "            point_df = pd.DataFrame()\n",
    "            for j in range(len(features)):\n",
    "                item = features[j]\n",
    "                point_df = point_df.append(item['properties'], ignore_index=True).T\n",
    "                point_df['FOD_ID'] = i\n",
    "            weather_df = weather_df.append(point_df)\n",
    "            # save output\n",
    "            weather_df.to_csv(fp)\n",
    "        except:\n",
    "            continue\n"
   ]
  },
  {
   "cell_type": "code",
   "execution_count": null,
   "metadata": {},
   "outputs": [],
   "source": []
  }
 ],
 "metadata": {
  "kernelspec": {
   "display_name": "Python 3",
   "language": "python",
   "name": "python3"
  },
  "language_info": {
   "codemirror_mode": {
    "name": "ipython",
    "version": 3
   },
   "file_extension": ".py",
   "mimetype": "text/x-python",
   "name": "python",
   "nbconvert_exporter": "python",
   "pygments_lexer": "ipython3",
   "version": "3.7.3"
  }
 },
 "nbformat": 4,
 "nbformat_minor": 4
}
